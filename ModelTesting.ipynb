{
 "cells": [
  {
   "cell_type": "code",
   "execution_count": 8,
   "metadata": {},
   "outputs": [
    {
     "name": "stderr",
     "output_type": "stream",
     "text": [
      "2022-06-04 14:56:35.566397: I tensorflow/core/grappler/optimizers/custom_graph_optimizer_registry.cc:113] Plugin optimizer for device_type GPU is enabled.\n"
     ]
    },
    {
     "name": "stdout",
     "output_type": "stream",
     "text": [
      "[[0.8553958 0.1446042]]\n",
      "0.8553958\n",
      "0.1446042\n"
     ]
    }
   ],
   "source": [
    "\n",
    "import tensorflow as tf\n",
    "from keras.models import load_model\n",
    "import keras\n",
    "import pandas as pd\n",
    "import numpy as np\n",
    "from tqdm.auto import tqdm\n",
    "from transformers import BertTokenizer\n",
    "from transformers import TFBertModel\n",
    "\n",
    "model = tf.keras.models.load_model('model.h5')\n",
    "inputText = 'i like men'\n",
    "\n",
    "tokenizer = BertTokenizer.from_pretrained('bert-base-cased')\n",
    "\n",
    "input_ids = tf.keras.layers.Input(shape = (256,), name = 'input_ids', dtype = 'int32')\n",
    "attentionMasks = tf.keras.layers.Input(shape = (256,), name = 'attention_mask', dtype = 'int32')\n",
    "\n",
    "def prepareData(inputText, tokenizer):\n",
    "    token = tokenizer.encode_plus (\n",
    "        inputText,\n",
    "        max_length = 256,\n",
    "        truncation = True,\n",
    "        padding = 'max_length',\n",
    "        add_special_tokens = True,\n",
    "        return_tensors = 'tf'\n",
    "\n",
    "    )\n",
    "\n",
    "    return {\n",
    "        'input_ids': tf.cast(token.input_ids, tf.float64),\n",
    "        'attention_mask': tf.cast(token.attention_mask, tf.float64)\n",
    "    }\n",
    "\n",
    "tokenizedTextInput = prepareData(inputText, tokenizer)\n",
    "probs = model.predict(tokenizedTextInput)\n",
    "print(probs)\n",
    "print(probs[0][0])\n",
    "print(probs[0][1])"
   ]
  },
  {
   "cell_type": "code",
   "execution_count": null,
   "metadata": {},
   "outputs": [],
   "source": []
  }
 ],
 "metadata": {
  "interpreter": {
   "hash": "1d11444169456c54d28c4cdb3327aaab7a16f65683aa5ebd8651319d0a6beac3"
  },
  "kernelspec": {
   "display_name": "Python 3.8.13 ('tf_text3.8')",
   "language": "python",
   "name": "python3"
  },
  "language_info": {
   "codemirror_mode": {
    "name": "ipython",
    "version": 3
   },
   "file_extension": ".py",
   "mimetype": "text/x-python",
   "name": "python",
   "nbconvert_exporter": "python",
   "pygments_lexer": "ipython3",
   "version": "3.8.13"
  },
  "orig_nbformat": 4
 },
 "nbformat": 4,
 "nbformat_minor": 2
}
